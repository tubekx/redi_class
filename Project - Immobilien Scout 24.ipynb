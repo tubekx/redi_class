{
 "cells": [
  {
   "cell_type": "markdown",
   "metadata": {},
   "source": [
    "### Description\n",
    "Immobilien Scout 24 is the biggest platform for renting appartments in Germany. The company hires data analysts and data scientists for analyzing the market data. They are especially interested in the Berlin market. The company wants to understand where to publish advertisment."
   ]
  },
  {
   "cell_type": "markdown",
   "metadata": {},
   "source": [
    "### The Dataset\n",
    "The datasets contains information about rental appartments in Berlin. \n",
    "One row is for one appartment. The dataset contains 6 columns.  \n",
    "- Region: is the Berlin district, where the flat is located\n",
    "- Condition: is the condition of the flat\n",
    "- Rooms: The number of rooms the flat has\n",
    "- Rent: Monthly rent for the flat\n",
    "- Year_Construction: The year in which the house was build\n",
    "- Space: How many square meters does the flat has?\n",
    "\n",
    "### The Task:\n",
    "1. What kind of information do we have?\n",
    "2. In which conditions are the flats?\n",
    "3. Where are the appartments located?\n",
    "\n",
    "Bonus Questions:\n",
    "4. What is the mean rent?"
   ]
  },
  {
   "cell_type": "markdown",
   "metadata": {},
   "source": [
    "### Import Libraries and Load Dataset"
   ]
  },
  {
   "cell_type": "code",
   "execution_count": 40,
   "metadata": {},
   "outputs": [
    {
     "data": {
      "text/html": [
       "<div>\n",
       "<style scoped>\n",
       "    .dataframe tbody tr th:only-of-type {\n",
       "        vertical-align: middle;\n",
       "    }\n",
       "\n",
       "    .dataframe tbody tr th {\n",
       "        vertical-align: top;\n",
       "    }\n",
       "\n",
       "    .dataframe thead th {\n",
       "        text-align: right;\n",
       "    }\n",
       "</style>\n",
       "<table border=\"1\" class=\"dataframe\">\n",
       "  <thead>\n",
       "    <tr style=\"text-align: right;\">\n",
       "      <th></th>\n",
       "      <th>Region</th>\n",
       "      <th>Condition</th>\n",
       "      <th>Rooms</th>\n",
       "      <th>Rent</th>\n",
       "      <th>Year_Construction</th>\n",
       "      <th>Space</th>\n",
       "    </tr>\n",
       "  </thead>\n",
       "  <tbody>\n",
       "    <tr>\n",
       "      <th>0</th>\n",
       "      <td>Mitte</td>\n",
       "      <td>first_time_use</td>\n",
       "      <td>4.0</td>\n",
       "      <td>2659.00</td>\n",
       "      <td>2019</td>\n",
       "      <td>117.20</td>\n",
       "    </tr>\n",
       "    <tr>\n",
       "      <th>1</th>\n",
       "      <td>Kreuzberg</td>\n",
       "      <td>first_time_use</td>\n",
       "      <td>1.0</td>\n",
       "      <td>1200.00</td>\n",
       "      <td>2020</td>\n",
       "      <td>29.33</td>\n",
       "    </tr>\n",
       "    <tr>\n",
       "      <th>2</th>\n",
       "      <td>Köpenick</td>\n",
       "      <td>well_kept</td>\n",
       "      <td>2.0</td>\n",
       "      <td>979.00</td>\n",
       "      <td>1997</td>\n",
       "      <td>83.61</td>\n",
       "    </tr>\n",
       "    <tr>\n",
       "      <th>3</th>\n",
       "      <td>Wilmersdorf</td>\n",
       "      <td>well_kept</td>\n",
       "      <td>4.0</td>\n",
       "      <td>1830.22</td>\n",
       "      <td>1900</td>\n",
       "      <td>171.18</td>\n",
       "    </tr>\n",
       "    <tr>\n",
       "      <th>4</th>\n",
       "      <td>Kreuzberg</td>\n",
       "      <td>first_time_use</td>\n",
       "      <td>2.0</td>\n",
       "      <td>2272.00</td>\n",
       "      <td>2020</td>\n",
       "      <td>88.27</td>\n",
       "    </tr>\n",
       "  </tbody>\n",
       "</table>\n",
       "</div>"
      ],
      "text/plain": [
       "        Region       Condition  Rooms     Rent  Year_Construction   Space\n",
       "0        Mitte  first_time_use    4.0  2659.00               2019  117.20\n",
       "1    Kreuzberg  first_time_use    1.0  1200.00               2020   29.33\n",
       "2     Köpenick       well_kept    2.0   979.00               1997   83.61\n",
       "3  Wilmersdorf       well_kept    4.0  1830.22               1900  171.18\n",
       "4    Kreuzberg  first_time_use    2.0  2272.00               2020   88.27"
      ]
     },
     "execution_count": 40,
     "metadata": {},
     "output_type": "execute_result"
    }
   ],
   "source": [
    "import pandas as pd\n",
    "import numpy as np\n",
    "import matplotlib.pyplot as plt\n",
    "import seaborn as sn\n",
    "\n",
    "df = pd.read_csv('./data/berlinRentals.csv')\n",
    "df.head()"
   ]
  },
  {
   "cell_type": "code",
   "execution_count": 41,
   "metadata": {},
   "outputs": [
    {
     "data": {
      "text/plain": [
       "(764, 6)"
      ]
     },
     "execution_count": 41,
     "metadata": {},
     "output_type": "execute_result"
    }
   ],
   "source": [
    "df.shape"
   ]
  },
  {
   "cell_type": "code",
   "execution_count": 42,
   "metadata": {},
   "outputs": [
    {
     "data": {
      "text/html": [
       "<div>\n",
       "<style scoped>\n",
       "    .dataframe tbody tr th:only-of-type {\n",
       "        vertical-align: middle;\n",
       "    }\n",
       "\n",
       "    .dataframe tbody tr th {\n",
       "        vertical-align: top;\n",
       "    }\n",
       "\n",
       "    .dataframe thead th {\n",
       "        text-align: right;\n",
       "    }\n",
       "</style>\n",
       "<table border=\"1\" class=\"dataframe\">\n",
       "  <thead>\n",
       "    <tr style=\"text-align: right;\">\n",
       "      <th></th>\n",
       "      <th>Rooms</th>\n",
       "      <th>Rent</th>\n",
       "      <th>Year_Construction</th>\n",
       "      <th>Space</th>\n",
       "    </tr>\n",
       "  </thead>\n",
       "  <tbody>\n",
       "    <tr>\n",
       "      <th>count</th>\n",
       "      <td>764.000000</td>\n",
       "      <td>764.000000</td>\n",
       "      <td>764.000000</td>\n",
       "      <td>764.000000</td>\n",
       "    </tr>\n",
       "    <tr>\n",
       "      <th>mean</th>\n",
       "      <td>2.549738</td>\n",
       "      <td>1768.560942</td>\n",
       "      <td>1983.695026</td>\n",
       "      <td>84.656270</td>\n",
       "    </tr>\n",
       "    <tr>\n",
       "      <th>std</th>\n",
       "      <td>1.010826</td>\n",
       "      <td>1118.263961</td>\n",
       "      <td>48.006060</td>\n",
       "      <td>44.195338</td>\n",
       "    </tr>\n",
       "    <tr>\n",
       "      <th>min</th>\n",
       "      <td>1.000000</td>\n",
       "      <td>271.250000</td>\n",
       "      <td>1864.000000</td>\n",
       "      <td>14.000000</td>\n",
       "    </tr>\n",
       "    <tr>\n",
       "      <th>25%</th>\n",
       "      <td>2.000000</td>\n",
       "      <td>1039.500000</td>\n",
       "      <td>1959.000000</td>\n",
       "      <td>55.097500</td>\n",
       "    </tr>\n",
       "    <tr>\n",
       "      <th>50%</th>\n",
       "      <td>2.500000</td>\n",
       "      <td>1565.480000</td>\n",
       "      <td>2015.000000</td>\n",
       "      <td>77.600000</td>\n",
       "    </tr>\n",
       "    <tr>\n",
       "      <th>75%</th>\n",
       "      <td>3.000000</td>\n",
       "      <td>2170.000000</td>\n",
       "      <td>2019.000000</td>\n",
       "      <td>104.450000</td>\n",
       "    </tr>\n",
       "    <tr>\n",
       "      <th>max</th>\n",
       "      <td>7.000000</td>\n",
       "      <td>14207.000000</td>\n",
       "      <td>2020.000000</td>\n",
       "      <td>413.910000</td>\n",
       "    </tr>\n",
       "  </tbody>\n",
       "</table>\n",
       "</div>"
      ],
      "text/plain": [
       "            Rooms          Rent  Year_Construction       Space\n",
       "count  764.000000    764.000000         764.000000  764.000000\n",
       "mean     2.549738   1768.560942        1983.695026   84.656270\n",
       "std      1.010826   1118.263961          48.006060   44.195338\n",
       "min      1.000000    271.250000        1864.000000   14.000000\n",
       "25%      2.000000   1039.500000        1959.000000   55.097500\n",
       "50%      2.500000   1565.480000        2015.000000   77.600000\n",
       "75%      3.000000   2170.000000        2019.000000  104.450000\n",
       "max      7.000000  14207.000000        2020.000000  413.910000"
      ]
     },
     "execution_count": 42,
     "metadata": {},
     "output_type": "execute_result"
    }
   ],
   "source": [
    "df.describe()"
   ]
  },
  {
   "cell_type": "code",
   "execution_count": 43,
   "metadata": {},
   "outputs": [
    {
     "data": {
      "text/plain": [
       "Index(['Region', 'Condition', 'Rooms', 'Rent', 'Year_Construction', 'Space'], dtype='object')"
      ]
     },
     "execution_count": 43,
     "metadata": {},
     "output_type": "execute_result"
    }
   ],
   "source": [
    "df.columns"
   ]
  },
  {
   "cell_type": "code",
   "execution_count": 44,
   "metadata": {},
   "outputs": [
    {
     "data": {
      "text/plain": [
       "Region                object\n",
       "Condition             object\n",
       "Rooms                float64\n",
       "Rent                 float64\n",
       "Year_Construction      int64\n",
       "Space                float64\n",
       "dtype: object"
      ]
     },
     "execution_count": 44,
     "metadata": {},
     "output_type": "execute_result"
    }
   ],
   "source": [
    "df.dtypes"
   ]
  },
  {
   "cell_type": "markdown",
   "metadata": {},
   "source": [
    "### 1. What kind of information do we have?\n",
    "1. This is a dataset of apartments in Berlin.\n",
    "2. The dataset is made of 764 records with 6 columns.\n",
    "3. The information about the rooms from the dataset include the part of Berlin the rooms are, the condition of the rooms, the rent per room, the years the building were constructed, and the amount of space per room."
   ]
  },
  {
   "cell_type": "markdown",
   "metadata": {},
   "source": [
    "### 2. In which conditions are the flats?"
   ]
  },
  {
   "cell_type": "code",
   "execution_count": 45,
   "metadata": {},
   "outputs": [
    {
     "data": {
      "text/plain": [
       "array(['first_time_use', 'well_kept', 'mint_condition', 'no_information',\n",
       "       'fully_renovated', 'first_time_use_after_refurbishment',\n",
       "       'refurbished', 'modernized', 'need_of_renovation'], dtype=object)"
      ]
     },
     "execution_count": 45,
     "metadata": {},
     "output_type": "execute_result"
    }
   ],
   "source": [
    "df.Condition.unique()"
   ]
  },
  {
   "cell_type": "code",
   "execution_count": 46,
   "metadata": {},
   "outputs": [
    {
     "data": {
      "text/plain": [
       "9"
      ]
     },
     "execution_count": 46,
     "metadata": {},
     "output_type": "execute_result"
    }
   ],
   "source": [
    "df.Condition.nunique()"
   ]
  },
  {
   "cell_type": "code",
   "execution_count": 47,
   "metadata": {},
   "outputs": [
    {
     "data": {
      "text/plain": [
       "Condition\n",
       "first_time_use                        270\n",
       "first_time_use_after_refurbishment     36\n",
       "fully_renovated                        35\n",
       "mint_condition                        143\n",
       "modernized                             29\n",
       "need_of_renovation                      4\n",
       "no_information                        111\n",
       "refurbished                            40\n",
       "well_kept                              96\n",
       "dtype: int64"
      ]
     },
     "execution_count": 47,
     "metadata": {},
     "output_type": "execute_result"
    }
   ],
   "source": [
    "df.groupby('Condition').size()"
   ]
  },
  {
   "cell_type": "markdown",
   "metadata": {},
   "source": [
    "1. The flats are in 9 different conditions.\n",
    "2. the conditons include well kept, mint condition, modernized, while some of the flats are in need of renovation.\n",
    "3. There are 270 first time use apartments, 143 apartments that are in mint condition, while only 4 apartments are in need of renovation. This can be represented in the chart below:"
   ]
  },
  {
   "cell_type": "code",
   "execution_count": 55,
   "metadata": {},
   "outputs": [
    {
     "data": {
      "image/png": "[encoded data removed]",
      "text/plain": [
       "<Figure size 432x288 with 1 Axes>"
      ]
     },
     "metadata": {
      "needs_background": "light"
     },
     "output_type": "display_data"
    }
   ],
   "source": [
    "plt.xticks(rotation = 90)\n",
    "sn.countplot(data = df, x = 'Condition', order = df['Condition'].value_counts().index);"
   ]
  },
  {
   "cell_type": "markdown",
   "metadata": {},
   "source": [
    "### 3. Where are the apartments located?"
   ]
  },
  {
   "cell_type": "code",
   "execution_count": 49,
   "metadata": {},
   "outputs": [
    {
     "data": {
      "text/plain": [
       "10"
      ]
     },
     "execution_count": 49,
     "metadata": {},
     "output_type": "execute_result"
    }
   ],
   "source": [
    "df.Region.nunique()"
   ]
  },
  {
   "cell_type": "code",
   "execution_count": 50,
   "metadata": {},
   "outputs": [
    {
     "data": {
      "text/plain": [
       "array(['Mitte', 'Kreuzberg', 'Köpenick', 'Wilmersdorf', 'Charlottenburg',\n",
       "       'Friedrichsfelde', 'Tiergarten', 'Prenzlauer', 'Wedding',\n",
       "       'Neukölln'], dtype=object)"
      ]
     },
     "execution_count": 50,
     "metadata": {},
     "output_type": "execute_result"
    }
   ],
   "source": [
    "df.Region.unique()"
   ]
  },
  {
   "cell_type": "code",
   "execution_count": 51,
   "metadata": {},
   "outputs": [
    {
     "data": {
      "text/plain": [
       "Region\n",
       "Charlottenburg      79\n",
       "Friedrichsfelde     52\n",
       "Kreuzberg           47\n",
       "Köpenick            55\n",
       "Mitte              153\n",
       "Neukölln            59\n",
       "Prenzlauer          53\n",
       "Tiergarten         171\n",
       "Wedding             42\n",
       "Wilmersdorf         53\n",
       "dtype: int64"
      ]
     },
     "execution_count": 51,
     "metadata": {},
     "output_type": "execute_result"
    }
   ],
   "source": [
    "df.groupby('Region').size()"
   ]
  },
  {
   "cell_type": "markdown",
   "metadata": {},
   "source": [
    "1. The apartments are located in 9 regions of Berlin such as Charlottenburg, Neukölln, Kreuzberg and Wedding.\n",
    "2. Tiergaten has the highest number of apartments with 171 located there, followed by Mitte with 153. Wedding has only 42 of the apartments which is the lowest. The information can be represented in the graph below:"
   ]
  },
  {
   "cell_type": "code",
   "execution_count": 52,
   "metadata": {},
   "outputs": [
    {
     "data": {
      "image/png": "[encoded data removed]",
      "text/plain": [
       "<Figure size 432x288 with 1 Axes>"
      ]
     },
     "metadata": {
      "needs_background": "light"
     },
     "output_type": "display_data"
    }
   ],
   "source": [
    "plt.xticks(rotation = 90)\n",
    "sn.countplot(data = df, x = 'Region', order = df['Region'].value_counts().index);"
   ]
  },
  {
   "cell_type": "markdown",
   "metadata": {},
   "source": [
    "### 4. What is the mean rent?"
   ]
  },
  {
   "cell_type": "code",
   "execution_count": 57,
   "metadata": {},
   "outputs": [
    {
     "data": {
      "text/plain": [
       "count      764.000000\n",
       "mean      1768.560942\n",
       "std       1118.263961\n",
       "min        271.250000\n",
       "25%       1039.500000\n",
       "50%       1565.480000\n",
       "75%       2170.000000\n",
       "max      14207.000000\n",
       "Name: Rent, dtype: float64"
      ]
     },
     "execution_count": 57,
     "metadata": {},
     "output_type": "execute_result"
    }
   ],
   "source": [
    "df.Rent.describe()"
   ]
  },
  {
   "cell_type": "code",
   "execution_count": 58,
   "metadata": {},
   "outputs": [
    {
     "data": {
      "text/plain": [
       "1768.560942408377"
      ]
     },
     "execution_count": 58,
     "metadata": {},
     "output_type": "execute_result"
    }
   ],
   "source": [
    "df.Rent.mean()"
   ]
  },
  {
   "cell_type": "markdown",
   "metadata": {},
   "source": [
    "The mean rent of the apartments is **1768.56 Euro** "
   ]
  },
  {
   "cell_type": "code",
   "execution_count": null,
   "metadata": {},
   "outputs": [],
   "source": []
  }
 ],
 "metadata": {
  "kernelspec": {
   "display_name": "Python 3",
   "language": "python",
   "name": "python3"
  },
  "language_info": {
   "codemirror_mode": {
    "name": "ipython",
    "version": 3
   },
   "file_extension": ".py",
   "mimetype": "text/x-python",
   "name": "python",
   "nbconvert_exporter": "python",
   "pygments_lexer": "ipython3",
   "version": "3.7.7"
  }
 },
 "nbformat": 4,
 "nbformat_minor": 4
}
